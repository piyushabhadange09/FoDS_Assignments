{
  "cells": [
    {
      "cell_type": "code",
      "execution_count": null,
      "id": "5c20777d-3d05-45a0-88cc-b0d1fb061b79",
      "metadata": {
        "id": "5c20777d-3d05-45a0-88cc-b0d1fb061b79"
      },
      "outputs": [],
      "source": [
        "import pandas as pd\n",
        "#reading the csv file\n",
        "df_csv=pd.read_csv(\"C:/Users/Lenovo/Desktop/jupyter notebook/dataset/iris - iris.csv\")\n"
      ]
    },
    {
      "cell_type": "code",
      "execution_count": null,
      "id": "dccb637f-5252-4995-bf37-54016a3ed8ae",
      "metadata": {
        "id": "dccb637f-5252-4995-bf37-54016a3ed8ae",
        "outputId": "428143e8-d71c-4f75-934e-442fcfbd3403"
      },
      "outputs": [
        {
          "data": {
            "text/html": [
              "<div>\n",
              "<style scoped>\n",
              "    .dataframe tbody tr th:only-of-type {\n",
              "        vertical-align: middle;\n",
              "    }\n",
              "\n",
              "    .dataframe tbody tr th {\n",
              "        vertical-align: top;\n",
              "    }\n",
              "\n",
              "    .dataframe thead th {\n",
              "        text-align: right;\n",
              "    }\n",
              "</style>\n",
              "<table border=\"1\" class=\"dataframe\">\n",
              "  <thead>\n",
              "    <tr style=\"text-align: right;\">\n",
              "      <th></th>\n",
              "      <th>x0</th>\n",
              "      <th>x1</th>\n",
              "      <th>x2</th>\n",
              "      <th>x3</th>\n",
              "      <th>x4</th>\n",
              "      <th>type</th>\n",
              "    </tr>\n",
              "  </thead>\n",
              "  <tbody>\n",
              "    <tr>\n",
              "      <th>0</th>\n",
              "      <td>1</td>\n",
              "      <td>5.1</td>\n",
              "      <td>3.5</td>\n",
              "      <td>1.4</td>\n",
              "      <td>0.2</td>\n",
              "      <td>Iris-setosa</td>\n",
              "    </tr>\n",
              "    <tr>\n",
              "      <th>1</th>\n",
              "      <td>1</td>\n",
              "      <td>4.9</td>\n",
              "      <td>3.0</td>\n",
              "      <td>1.4</td>\n",
              "      <td>0.2</td>\n",
              "      <td>Iris-setosa</td>\n",
              "    </tr>\n",
              "    <tr>\n",
              "      <th>2</th>\n",
              "      <td>1</td>\n",
              "      <td>4.7</td>\n",
              "      <td>3.2</td>\n",
              "      <td>1.3</td>\n",
              "      <td>0.2</td>\n",
              "      <td>Iris-setosa</td>\n",
              "    </tr>\n",
              "    <tr>\n",
              "      <th>3</th>\n",
              "      <td>1</td>\n",
              "      <td>4.6</td>\n",
              "      <td>3.1</td>\n",
              "      <td>1.5</td>\n",
              "      <td>0.2</td>\n",
              "      <td>Iris-setosa</td>\n",
              "    </tr>\n",
              "    <tr>\n",
              "      <th>4</th>\n",
              "      <td>1</td>\n",
              "      <td>5.0</td>\n",
              "      <td>3.6</td>\n",
              "      <td>1.4</td>\n",
              "      <td>0.2</td>\n",
              "      <td>Iris-setosa</td>\n",
              "    </tr>\n",
              "    <tr>\n",
              "      <th>5</th>\n",
              "      <td>1</td>\n",
              "      <td>5.4</td>\n",
              "      <td>3.9</td>\n",
              "      <td>1.7</td>\n",
              "      <td>0.4</td>\n",
              "      <td>Iris-setosa</td>\n",
              "    </tr>\n",
              "    <tr>\n",
              "      <th>6</th>\n",
              "      <td>1</td>\n",
              "      <td>4.6</td>\n",
              "      <td>3.4</td>\n",
              "      <td>1.4</td>\n",
              "      <td>0.3</td>\n",
              "      <td>Iris-setosa</td>\n",
              "    </tr>\n",
              "    <tr>\n",
              "      <th>7</th>\n",
              "      <td>1</td>\n",
              "      <td>5.0</td>\n",
              "      <td>3.4</td>\n",
              "      <td>1.5</td>\n",
              "      <td>0.2</td>\n",
              "      <td>Iris-setosa</td>\n",
              "    </tr>\n",
              "    <tr>\n",
              "      <th>8</th>\n",
              "      <td>1</td>\n",
              "      <td>4.4</td>\n",
              "      <td>2.9</td>\n",
              "      <td>1.4</td>\n",
              "      <td>0.2</td>\n",
              "      <td>Iris-setosa</td>\n",
              "    </tr>\n",
              "    <tr>\n",
              "      <th>9</th>\n",
              "      <td>1</td>\n",
              "      <td>4.9</td>\n",
              "      <td>3.1</td>\n",
              "      <td>1.5</td>\n",
              "      <td>0.1</td>\n",
              "      <td>Iris-setosa</td>\n",
              "    </tr>\n",
              "  </tbody>\n",
              "</table>\n",
              "</div>"
            ],
            "text/plain": [
              "   x0   x1   x2   x3   x4         type\n",
              "0   1  5.1  3.5  1.4  0.2  Iris-setosa\n",
              "1   1  4.9  3.0  1.4  0.2  Iris-setosa\n",
              "2   1  4.7  3.2  1.3  0.2  Iris-setosa\n",
              "3   1  4.6  3.1  1.5  0.2  Iris-setosa\n",
              "4   1  5.0  3.6  1.4  0.2  Iris-setosa\n",
              "5   1  5.4  3.9  1.7  0.4  Iris-setosa\n",
              "6   1  4.6  3.4  1.4  0.3  Iris-setosa\n",
              "7   1  5.0  3.4  1.5  0.2  Iris-setosa\n",
              "8   1  4.4  2.9  1.4  0.2  Iris-setosa\n",
              "9   1  4.9  3.1  1.5  0.1  Iris-setosa"
            ]
          },
          "execution_count": 7,
          "metadata": {},
          "output_type": "execute_result"
        }
      ],
      "source": [
        "df_csv.head(10)"
      ]
    },
    {
      "cell_type": "code",
      "execution_count": null,
      "id": "f94c78c0-e841-42f9-b7f5-071bd9898deb",
      "metadata": {
        "id": "f94c78c0-e841-42f9-b7f5-071bd9898deb",
        "outputId": "051c860a-8a85-4811-a64c-3c0fa518b8df"
      },
      "outputs": [
        {
          "data": {
            "text/plain": [
              "x0                1\n",
              "x1              5.4\n",
              "x2              3.9\n",
              "x3              1.7\n",
              "x4              0.4\n",
              "type    Iris-setosa\n",
              "Name: 5, dtype: object"
            ]
          },
          "execution_count": 17,
          "metadata": {},
          "output_type": "execute_result"
        }
      ],
      "source": [
        "df_csv.iloc[5]"
      ]
    },
    {
      "cell_type": "code",
      "execution_count": null,
      "id": "b9323295-c045-4a8e-bd06-0e31eb8364bd",
      "metadata": {
        "id": "b9323295-c045-4a8e-bd06-0e31eb8364bd",
        "outputId": "06d89938-bb70-431d-dc24-fd3b0c113992"
      },
      "outputs": [
        {
          "name": "stdout",
          "output_type": "stream",
          "text": [
            "<class 'pandas.core.frame.DataFrame'>\n",
            "RangeIndex: 150 entries, 0 to 149\n",
            "Data columns (total 6 columns):\n",
            " #   Column  Non-Null Count  Dtype  \n",
            "---  ------  --------------  -----  \n",
            " 0   x0      150 non-null    int64  \n",
            " 1   x1      150 non-null    float64\n",
            " 2   x2      150 non-null    float64\n",
            " 3   x3      150 non-null    float64\n",
            " 4   x4      150 non-null    float64\n",
            " 5   type    150 non-null    object \n",
            "dtypes: float64(4), int64(1), object(1)\n",
            "memory usage: 7.2+ KB\n"
          ]
        }
      ],
      "source": [
        "df_csv.info()"
      ]
    },
    {
      "cell_type": "code",
      "execution_count": null,
      "id": "fbbbf3b0-c9e8-4d49-b22b-056921d468f4",
      "metadata": {
        "id": "fbbbf3b0-c9e8-4d49-b22b-056921d468f4",
        "outputId": "0e7f8a63-afae-4801-b432-0963da3fae6e"
      },
      "outputs": [
        {
          "data": {
            "text/html": [
              "<div>\n",
              "<style scoped>\n",
              "    .dataframe tbody tr th:only-of-type {\n",
              "        vertical-align: middle;\n",
              "    }\n",
              "\n",
              "    .dataframe tbody tr th {\n",
              "        vertical-align: top;\n",
              "    }\n",
              "\n",
              "    .dataframe thead th {\n",
              "        text-align: right;\n",
              "    }\n",
              "</style>\n",
              "<table border=\"1\" class=\"dataframe\">\n",
              "  <thead>\n",
              "    <tr style=\"text-align: right;\">\n",
              "      <th></th>\n",
              "      <th>x0</th>\n",
              "      <th>x1</th>\n",
              "      <th>x2</th>\n",
              "      <th>x3</th>\n",
              "      <th>x4</th>\n",
              "      <th>type</th>\n",
              "    </tr>\n",
              "  </thead>\n",
              "  <tbody>\n",
              "    <tr>\n",
              "      <th>13</th>\n",
              "      <td>1</td>\n",
              "      <td>4.3</td>\n",
              "      <td>3.0</td>\n",
              "      <td>1.1</td>\n",
              "      <td>0.1</td>\n",
              "      <td>Iris-setosa</td>\n",
              "    </tr>\n",
              "    <tr>\n",
              "      <th>8</th>\n",
              "      <td>1</td>\n",
              "      <td>4.4</td>\n",
              "      <td>2.9</td>\n",
              "      <td>1.4</td>\n",
              "      <td>0.2</td>\n",
              "      <td>Iris-setosa</td>\n",
              "    </tr>\n",
              "    <tr>\n",
              "      <th>42</th>\n",
              "      <td>1</td>\n",
              "      <td>4.4</td>\n",
              "      <td>3.2</td>\n",
              "      <td>1.3</td>\n",
              "      <td>0.2</td>\n",
              "      <td>Iris-setosa</td>\n",
              "    </tr>\n",
              "    <tr>\n",
              "      <th>38</th>\n",
              "      <td>1</td>\n",
              "      <td>4.4</td>\n",
              "      <td>3.0</td>\n",
              "      <td>1.3</td>\n",
              "      <td>0.2</td>\n",
              "      <td>Iris-setosa</td>\n",
              "    </tr>\n",
              "    <tr>\n",
              "      <th>41</th>\n",
              "      <td>1</td>\n",
              "      <td>4.5</td>\n",
              "      <td>2.3</td>\n",
              "      <td>1.3</td>\n",
              "      <td>0.3</td>\n",
              "      <td>Iris-setosa</td>\n",
              "    </tr>\n",
              "    <tr>\n",
              "      <th>...</th>\n",
              "      <td>...</td>\n",
              "      <td>...</td>\n",
              "      <td>...</td>\n",
              "      <td>...</td>\n",
              "      <td>...</td>\n",
              "      <td>...</td>\n",
              "    </tr>\n",
              "    <tr>\n",
              "      <th>122</th>\n",
              "      <td>1</td>\n",
              "      <td>7.7</td>\n",
              "      <td>2.8</td>\n",
              "      <td>6.7</td>\n",
              "      <td>2.0</td>\n",
              "      <td>Iris-virginica</td>\n",
              "    </tr>\n",
              "    <tr>\n",
              "      <th>117</th>\n",
              "      <td>1</td>\n",
              "      <td>7.7</td>\n",
              "      <td>3.8</td>\n",
              "      <td>6.7</td>\n",
              "      <td>2.2</td>\n",
              "      <td>Iris-virginica</td>\n",
              "    </tr>\n",
              "    <tr>\n",
              "      <th>118</th>\n",
              "      <td>1</td>\n",
              "      <td>7.7</td>\n",
              "      <td>2.6</td>\n",
              "      <td>6.9</td>\n",
              "      <td>2.3</td>\n",
              "      <td>Iris-virginica</td>\n",
              "    </tr>\n",
              "    <tr>\n",
              "      <th>135</th>\n",
              "      <td>1</td>\n",
              "      <td>7.7</td>\n",
              "      <td>3.0</td>\n",
              "      <td>6.1</td>\n",
              "      <td>2.3</td>\n",
              "      <td>Iris-virginica</td>\n",
              "    </tr>\n",
              "    <tr>\n",
              "      <th>131</th>\n",
              "      <td>1</td>\n",
              "      <td>7.9</td>\n",
              "      <td>3.8</td>\n",
              "      <td>6.4</td>\n",
              "      <td>2.0</td>\n",
              "      <td>Iris-virginica</td>\n",
              "    </tr>\n",
              "  </tbody>\n",
              "</table>\n",
              "<p>150 rows × 6 columns</p>\n",
              "</div>"
            ],
            "text/plain": [
              "     x0   x1   x2   x3   x4            type\n",
              "13    1  4.3  3.0  1.1  0.1     Iris-setosa\n",
              "8     1  4.4  2.9  1.4  0.2     Iris-setosa\n",
              "42    1  4.4  3.2  1.3  0.2     Iris-setosa\n",
              "38    1  4.4  3.0  1.3  0.2     Iris-setosa\n",
              "41    1  4.5  2.3  1.3  0.3     Iris-setosa\n",
              "..   ..  ...  ...  ...  ...             ...\n",
              "122   1  7.7  2.8  6.7  2.0  Iris-virginica\n",
              "117   1  7.7  3.8  6.7  2.2  Iris-virginica\n",
              "118   1  7.7  2.6  6.9  2.3  Iris-virginica\n",
              "135   1  7.7  3.0  6.1  2.3  Iris-virginica\n",
              "131   1  7.9  3.8  6.4  2.0  Iris-virginica\n",
              "\n",
              "[150 rows x 6 columns]"
            ]
          },
          "execution_count": 18,
          "metadata": {},
          "output_type": "execute_result"
        }
      ],
      "source": [
        "df_csv.sort_values(by=\"x1\")"
      ]
    },
    {
      "cell_type": "code",
      "execution_count": null,
      "id": "1e6720be-7adf-45ae-b974-6dbdd6a65f44",
      "metadata": {
        "id": "1e6720be-7adf-45ae-b974-6dbdd6a65f44",
        "outputId": "c02cb1e6-675c-4917-9606-c1ac68665172"
      },
      "outputs": [
        {
          "data": {
            "text/html": [
              "<div>\n",
              "<style scoped>\n",
              "    .dataframe tbody tr th:only-of-type {\n",
              "        vertical-align: middle;\n",
              "    }\n",
              "\n",
              "    .dataframe tbody tr th {\n",
              "        vertical-align: top;\n",
              "    }\n",
              "\n",
              "    .dataframe thead th {\n",
              "        text-align: right;\n",
              "    }\n",
              "</style>\n",
              "<table border=\"1\" class=\"dataframe\">\n",
              "  <thead>\n",
              "    <tr style=\"text-align: right;\">\n",
              "      <th></th>\n",
              "      <th>x0</th>\n",
              "      <th>x1</th>\n",
              "      <th>x2</th>\n",
              "      <th>x3</th>\n",
              "      <th>x4</th>\n",
              "    </tr>\n",
              "  </thead>\n",
              "  <tbody>\n",
              "    <tr>\n",
              "      <th>count</th>\n",
              "      <td>150.0</td>\n",
              "      <td>150.000000</td>\n",
              "      <td>150.000000</td>\n",
              "      <td>150.000000</td>\n",
              "      <td>150.000000</td>\n",
              "    </tr>\n",
              "    <tr>\n",
              "      <th>mean</th>\n",
              "      <td>1.0</td>\n",
              "      <td>5.843333</td>\n",
              "      <td>3.054000</td>\n",
              "      <td>3.758667</td>\n",
              "      <td>1.198667</td>\n",
              "    </tr>\n",
              "    <tr>\n",
              "      <th>std</th>\n",
              "      <td>0.0</td>\n",
              "      <td>0.828066</td>\n",
              "      <td>0.433594</td>\n",
              "      <td>1.764420</td>\n",
              "      <td>0.763161</td>\n",
              "    </tr>\n",
              "    <tr>\n",
              "      <th>min</th>\n",
              "      <td>1.0</td>\n",
              "      <td>4.300000</td>\n",
              "      <td>2.000000</td>\n",
              "      <td>1.000000</td>\n",
              "      <td>0.100000</td>\n",
              "    </tr>\n",
              "    <tr>\n",
              "      <th>25%</th>\n",
              "      <td>1.0</td>\n",
              "      <td>5.100000</td>\n",
              "      <td>2.800000</td>\n",
              "      <td>1.600000</td>\n",
              "      <td>0.300000</td>\n",
              "    </tr>\n",
              "    <tr>\n",
              "      <th>50%</th>\n",
              "      <td>1.0</td>\n",
              "      <td>5.800000</td>\n",
              "      <td>3.000000</td>\n",
              "      <td>4.350000</td>\n",
              "      <td>1.300000</td>\n",
              "    </tr>\n",
              "    <tr>\n",
              "      <th>75%</th>\n",
              "      <td>1.0</td>\n",
              "      <td>6.400000</td>\n",
              "      <td>3.300000</td>\n",
              "      <td>5.100000</td>\n",
              "      <td>1.800000</td>\n",
              "    </tr>\n",
              "    <tr>\n",
              "      <th>max</th>\n",
              "      <td>1.0</td>\n",
              "      <td>7.900000</td>\n",
              "      <td>4.400000</td>\n",
              "      <td>6.900000</td>\n",
              "      <td>2.500000</td>\n",
              "    </tr>\n",
              "  </tbody>\n",
              "</table>\n",
              "</div>"
            ],
            "text/plain": [
              "          x0          x1          x2          x3          x4\n",
              "count  150.0  150.000000  150.000000  150.000000  150.000000\n",
              "mean     1.0    5.843333    3.054000    3.758667    1.198667\n",
              "std      0.0    0.828066    0.433594    1.764420    0.763161\n",
              "min      1.0    4.300000    2.000000    1.000000    0.100000\n",
              "25%      1.0    5.100000    2.800000    1.600000    0.300000\n",
              "50%      1.0    5.800000    3.000000    4.350000    1.300000\n",
              "75%      1.0    6.400000    3.300000    5.100000    1.800000\n",
              "max      1.0    7.900000    4.400000    6.900000    2.500000"
            ]
          },
          "execution_count": 9,
          "metadata": {},
          "output_type": "execute_result"
        }
      ],
      "source": [
        "df_csv.describe()"
      ]
    },
    {
      "cell_type": "code",
      "execution_count": null,
      "id": "a32b5e8f-6da8-40a6-aaab-d47aa69fbc8d",
      "metadata": {
        "id": "a32b5e8f-6da8-40a6-aaab-d47aa69fbc8d",
        "outputId": "b12c0b61-68d1-4866-a7ba-c0d4415fe7d1"
      },
      "outputs": [
        {
          "data": {
            "text/html": [
              "<div>\n",
              "<style scoped>\n",
              "    .dataframe tbody tr th:only-of-type {\n",
              "        vertical-align: middle;\n",
              "    }\n",
              "\n",
              "    .dataframe tbody tr th {\n",
              "        vertical-align: top;\n",
              "    }\n",
              "\n",
              "    .dataframe thead th {\n",
              "        text-align: right;\n",
              "    }\n",
              "</style>\n",
              "<table border=\"1\" class=\"dataframe\">\n",
              "  <thead>\n",
              "    <tr style=\"text-align: right;\">\n",
              "      <th></th>\n",
              "      <th>x0</th>\n",
              "      <th>x1</th>\n",
              "      <th>x2</th>\n",
              "      <th>x3</th>\n",
              "      <th>x4</th>\n",
              "    </tr>\n",
              "  </thead>\n",
              "  <tbody>\n",
              "    <tr>\n",
              "      <th>count</th>\n",
              "      <td>150.0</td>\n",
              "      <td>150.000000</td>\n",
              "      <td>150.000000</td>\n",
              "      <td>150.000000</td>\n",
              "      <td>150.000000</td>\n",
              "    </tr>\n",
              "    <tr>\n",
              "      <th>mean</th>\n",
              "      <td>1.0</td>\n",
              "      <td>5.843333</td>\n",
              "      <td>3.054000</td>\n",
              "      <td>3.758667</td>\n",
              "      <td>1.198667</td>\n",
              "    </tr>\n",
              "    <tr>\n",
              "      <th>std</th>\n",
              "      <td>0.0</td>\n",
              "      <td>0.828066</td>\n",
              "      <td>0.433594</td>\n",
              "      <td>1.764420</td>\n",
              "      <td>0.763161</td>\n",
              "    </tr>\n",
              "    <tr>\n",
              "      <th>min</th>\n",
              "      <td>1.0</td>\n",
              "      <td>4.300000</td>\n",
              "      <td>2.000000</td>\n",
              "      <td>1.000000</td>\n",
              "      <td>0.100000</td>\n",
              "    </tr>\n",
              "    <tr>\n",
              "      <th>25%</th>\n",
              "      <td>1.0</td>\n",
              "      <td>5.100000</td>\n",
              "      <td>2.800000</td>\n",
              "      <td>1.600000</td>\n",
              "      <td>0.300000</td>\n",
              "    </tr>\n",
              "    <tr>\n",
              "      <th>50%</th>\n",
              "      <td>1.0</td>\n",
              "      <td>5.800000</td>\n",
              "      <td>3.000000</td>\n",
              "      <td>4.350000</td>\n",
              "      <td>1.300000</td>\n",
              "    </tr>\n",
              "    <tr>\n",
              "      <th>75%</th>\n",
              "      <td>1.0</td>\n",
              "      <td>6.400000</td>\n",
              "      <td>3.300000</td>\n",
              "      <td>5.100000</td>\n",
              "      <td>1.800000</td>\n",
              "    </tr>\n",
              "    <tr>\n",
              "      <th>max</th>\n",
              "      <td>1.0</td>\n",
              "      <td>7.900000</td>\n",
              "      <td>4.400000</td>\n",
              "      <td>6.900000</td>\n",
              "      <td>2.500000</td>\n",
              "    </tr>\n",
              "  </tbody>\n",
              "</table>\n",
              "</div>"
            ],
            "text/plain": [
              "          x0          x1          x2          x3          x4\n",
              "count  150.0  150.000000  150.000000  150.000000  150.000000\n",
              "mean     1.0    5.843333    3.054000    3.758667    1.198667\n",
              "std      0.0    0.828066    0.433594    1.764420    0.763161\n",
              "min      1.0    4.300000    2.000000    1.000000    0.100000\n",
              "25%      1.0    5.100000    2.800000    1.600000    0.300000\n",
              "50%      1.0    5.800000    3.000000    4.350000    1.300000\n",
              "75%      1.0    6.400000    3.300000    5.100000    1.800000\n",
              "max      1.0    7.900000    4.400000    6.900000    2.500000"
            ]
          },
          "execution_count": 9,
          "metadata": {},
          "output_type": "execute_result"
        }
      ],
      "source": [
        "df_csv.iloc[[10,12,17]]"
      ]
    },
    {
      "cell_type": "code",
      "execution_count": null,
      "id": "e14162d4-43b6-4be3-a4c3-183f5156c0f9",
      "metadata": {
        "id": "e14162d4-43b6-4be3-a4c3-183f5156c0f9",
        "outputId": "20a663cc-beb4-4c91-c2a6-e66b9f8428bc"
      },
      "outputs": [
        {
          "data": {
            "text/html": [
              "<div>\n",
              "<style scoped>\n",
              "    .dataframe tbody tr th:only-of-type {\n",
              "        vertical-align: middle;\n",
              "    }\n",
              "\n",
              "    .dataframe tbody tr th {\n",
              "        vertical-align: top;\n",
              "    }\n",
              "\n",
              "    .dataframe thead th {\n",
              "        text-align: right;\n",
              "    }\n",
              "</style>\n",
              "<table border=\"1\" class=\"dataframe\">\n",
              "  <thead>\n",
              "    <tr style=\"text-align: right;\">\n",
              "      <th></th>\n",
              "      <th>Sample Paragraph:</th>\n",
              "    </tr>\n",
              "  </thead>\n",
              "  <tbody>\n",
              "    <tr>\n",
              "      <th>0</th>\n",
              "      <td>The rapid advancement of technology in the 21s...</td>\n",
              "    </tr>\n",
              "    <tr>\n",
              "      <th>1</th>\n",
              "      <td>At the heart of this transformation is data, o...</td>\n",
              "    </tr>\n",
              "    <tr>\n",
              "      <th>2</th>\n",
              "      <td>In addition to the challenges posed by data, t...</td>\n",
              "    </tr>\n",
              "    <tr>\n",
              "      <th>3</th>\n",
              "      <td>Moreover, as technology continues to evolve, t...</td>\n",
              "    </tr>\n",
              "  </tbody>\n",
              "</table>\n",
              "</div>"
            ],
            "text/plain": [
              "                                   Sample Paragraph:\n",
              "0  The rapid advancement of technology in the 21s...\n",
              "1  At the heart of this transformation is data, o...\n",
              "2  In addition to the challenges posed by data, t...\n",
              "3  Moreover, as technology continues to evolve, t..."
            ]
          },
          "execution_count": 12,
          "metadata": {},
          "output_type": "execute_result"
        }
      ],
      "source": [
        "#reading .txt file\n",
        "df_txt = pd.read_csv(r'C:/Users/Lenovo/Desktop/jupyter notebook/dataset/sample.txt', sep='\\t')\n",
        "df_txt"
      ]
    },
    {
      "cell_type": "code",
      "execution_count": null,
      "id": "d4600aa5-48cc-49bf-8f7b-d8e4ffa07370",
      "metadata": {
        "id": "d4600aa5-48cc-49bf-8f7b-d8e4ffa07370",
        "outputId": "b9c121f2-3438-492e-e88b-a8e3784be3e1"
      },
      "outputs": [
        {
          "name": "stdout",
          "output_type": "stream",
          "text": [
            "Sample Paragraph:\n",
            "\n",
            "The rapid advancement of technology in the 21st century has dramatically changed the way we live and work. From the proliferation of smartphones and the rise of social media to the development of artificial intelligence and automation, society is experiencing a digital transformation on a global scale. These innovations have not only improved efficiency but also raised important ethical questions about privacy, security, and the future of employment. As we continue to embrace these technologies, it is crucial to find a balance between innovation and responsibility, ensuring that the benefits are widely shared and the potential risks are mitigated.\n",
            "\n",
            "At the heart of this transformation is data, often referred to as the new oil. The vast amounts of information generated daily are being harnessed to fuel machine learning algorithms, enabling more personalized services, smarter cities, and breakthroughs in healthcare. However, with great power comes great responsibility. The ethical use of data is a growing concern, particularly as companies and governments gain unprecedented insights into human behavior. The protection of individual privacy, the prevention of data breaches, and the regulation of how data is collected and used are critical issues that must be addressed.\n",
            "\n",
            "In addition to the challenges posed by data, the increasing automation of jobs through artificial intelligence and robotics has sparked debates about the future of work. While some argue that automation will lead to greater efficiency and open up new opportunities, others fear it may displace workers in industries ranging from manufacturing to customer service. The key will be in re-skilling and up-skilling the workforce to adapt to these changes, ensuring that the transition to an automated economy benefits all members of society, not just a select few.\n",
            "\n",
            "Moreover, as technology continues to evolve, the role of education becomes even more important. Lifelong learning and adaptability will be crucial skills in the future, as industries constantly shift in response to technological advancements. Governments, institutions, and corporations will need to collaborate in developing new educational models that equip individuals with both the technical skills and critical thinking necessary to thrive in a fast-changing world.\n",
            "\n",
            "\n"
          ]
        }
      ],
      "source": [
        "with open('C:/Users/Lenovo/Desktop/jupyter notebook/dataset/sample.txt', 'r') as file:\n",
        "   fileContent = file.read()\n",
        "print(fileContent)"
      ]
    },
    {
      "cell_type": "code",
      "execution_count": null,
      "id": "4b94b3f7-0205-42a3-bcfb-299133acf37e",
      "metadata": {
        "id": "4b94b3f7-0205-42a3-bcfb-299133acf37e",
        "outputId": "8baf4b45-c727-43c5-87d1-d00e5036e640"
      },
      "outputs": [
        {
          "name": "stdout",
          "output_type": "stream",
          "text": [
            "book \n",
            "      \n",
            "book \n",
            "      \n",
            "book \n",
            "      \n",
            "book \n",
            "      \n",
            "book \n",
            "      \n",
            "book \n",
            "      \n",
            "book \n",
            "      \n",
            "book \n",
            "      \n",
            "book \n",
            "      \n",
            "book \n",
            "      \n",
            "book \n",
            "      \n",
            "book \n",
            "      \n"
          ]
        }
      ],
      "source": [
        "#reading .xml file\n",
        "import xml.etree.ElementTree as ET\n",
        "\n",
        "tree = ET.parse('C:/Users/Lenovo/Desktop/jupyter notebook/dataset/Example.xml')\n",
        "root = tree.getroot()\n",
        "\n",
        "# Print out the tag names and text\n",
        "for child in root:\n",
        "    print(child.tag, child.text)"
      ]
    },
    {
      "cell_type": "code",
      "execution_count": null,
      "id": "ff0e1ec3-0319-41f2-b369-fec675df64fb",
      "metadata": {
        "id": "ff0e1ec3-0319-41f2-b369-fec675df64fb",
        "outputId": "4b2b9ebf-bf80-4b7c-b43d-84965d4e0ac9"
      },
      "outputs": [
        {
          "name": "stdout",
          "output_type": "stream",
          "text": [
            "Data successfully written to output.csv\n"
          ]
        }
      ],
      "source": [
        "#writing the data into csv file\n",
        "import csv\n",
        "data = [\n",
        "    [\"Name\", \"Age\", \"City\"],\n",
        "    [\"Abhidnya\", 30, \"Mumbai\"],\n",
        "    [\"Tushar\", 40, \"Pune\"],\n",
        "    [\"Sharad\", 35, \"Satara\"]\n",
        "]\n",
        "with open('output.csv', mode='w', newline='') as file:\n",
        "    writer = csv.writer(file)\n",
        "    writer.writerows(data)\n",
        "\n",
        "print(\"Data successfully written to output.csv\")"
      ]
    },
    {
      "cell_type": "code",
      "execution_count": null,
      "id": "4dd63792-ff7e-4ce5-996a-8b7c33fb2e03",
      "metadata": {
        "id": "4dd63792-ff7e-4ce5-996a-8b7c33fb2e03",
        "outputId": "eb740309-dc69-4371-994c-4665d053e760"
      },
      "outputs": [
        {
          "name": "stdout",
          "output_type": "stream",
          "text": [
            "Data successfully written to output.txt\n"
          ]
        }
      ],
      "source": [
        "#writing the data into output.txt file\n",
        "data = [\n",
        "    \"Name: Abhidnya, Age: 30, City: Mumbai\",\n",
        "    \"Name: Abhidnya, Age: 40, City: Pune\",\n",
        "    \"Name: Sharad, Age: 35, City: Satara\"\n",
        "]\n",
        "with open('output.txt', 'w') as file:\n",
        "    for line in data:\n",
        "        file.write(line +'\\n')\n",
        "\n",
        "print(\"Data successfully written to output.txt\")\n"
      ]
    },
    {
      "cell_type": "code",
      "execution_count": null,
      "id": "09a9804e-132a-4a28-b2e2-7b4933e27f6d",
      "metadata": {
        "id": "09a9804e-132a-4a28-b2e2-7b4933e27f6d",
        "outputId": "7e4ec81d-3f51-48ff-df72-57deb2669656"
      },
      "outputs": [
        {
          "name": "stdout",
          "output_type": "stream",
          "text": [
            "       Name  Age    City\n",
            "0  Abhidnya   30  Mumbai\n",
            "1    Tushar   40    Pune\n",
            "2    Sharad   35  Satara\n"
          ]
        }
      ],
      "source": [
        "#reading the written data into output.csv\n",
        "df_writeread_csv=pd.read_csv(\"C:/Users/Lenovo/Desktop/jupyter notebook/dataset/output.csv\");\n",
        "print(df_writeread_csv)"
      ]
    },
    {
      "cell_type": "code",
      "execution_count": null,
      "id": "23c1e660-f926-41e5-b5d0-0ba6eb393c09",
      "metadata": {
        "id": "23c1e660-f926-41e5-b5d0-0ba6eb393c09",
        "outputId": "7d610570-70d2-4a18-de0e-145cc93f0a2b"
      },
      "outputs": [
        {
          "name": "stdout",
          "output_type": "stream",
          "text": [
            "Name: Abhidnya, Age: 30, City: Mumbai\n",
            "Name: Abhidnya, Age: 40, City: Pune\n",
            "Name: Sharad, Age: 35, City: Satara\n",
            "\n"
          ]
        }
      ],
      "source": [
        "#reading the written data into output.txt and content of both data is same\n",
        "with open('C:/Users/Lenovo/Desktop/jupyter notebook/dataset/output.txt', 'r') as file:\n",
        "   fileContent = file.read()\n",
        "print(fileContent)"
      ]
    },
    {
      "cell_type": "code",
      "execution_count": null,
      "id": "19ed19fe-37c5-467b-9e0f-fd8fd244eb26",
      "metadata": {
        "id": "19ed19fe-37c5-467b-9e0f-fd8fd244eb26"
      },
      "outputs": [],
      "source": []
    }
  ],
  "metadata": {
    "kernelspec": {
      "display_name": "Python 3 (ipykernel)",
      "language": "python",
      "name": "python3"
    },
    "language_info": {
      "codemirror_mode": {
        "name": "ipython",
        "version": 3
      },
      "file_extension": ".py",
      "mimetype": "text/x-python",
      "name": "python",
      "nbconvert_exporter": "python",
      "pygments_lexer": "ipython3",
      "version": "3.10.7"
    },
    "colab": {
      "provenance": []
    }
  },
  "nbformat": 4,
  "nbformat_minor": 5
}